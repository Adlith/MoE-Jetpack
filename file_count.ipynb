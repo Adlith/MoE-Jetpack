{
 "cells": [
  {
   "cell_type": "code",
   "execution_count": 1,
   "metadata": {},
   "outputs": [
    {
     "name": "stdout",
     "output_type": "stream",
     "text": [
      "The directory with the most files is: ./configs/_base_/models\n",
      "Number of files in that directory: 86\n"
     ]
    }
   ],
   "source": [
    "import os\n",
    "\n",
    "def count_files_in_directory(directory_path):\n",
    "    file_count = 0\n",
    "    for root, dirs, files in os.walk(directory_path):\n",
    "        file_count += len(files)\n",
    "    return file_count\n",
    "\n",
    "def find_directory_with_most_files(project_path):\n",
    "    max_files = 0\n",
    "    max_files_directory = None\n",
    "    \n",
    "    for root, dirs, files in os.walk(project_path):\n",
    "        current_files = len(files)\n",
    "        if current_files > max_files:\n",
    "            max_files = current_files\n",
    "            max_files_directory = root\n",
    "    \n",
    "    return max_files_directory, max_files\n",
    "\n",
    "project_path = \"./\"\n",
    "max_files_directory, max_files_count = find_directory_with_most_files(project_path)\n",
    "\n",
    "print(f\"The directory with the most files is: {max_files_directory}\")\n",
    "print(f\"Number of files in that directory: {max_files_count}\")\n"
   ]
  }
 ],
 "metadata": {
  "kernelspec": {
   "display_name": "mmpretrain",
   "language": "python",
   "name": "python3"
  },
  "language_info": {
   "codemirror_mode": {
    "name": "ipython",
    "version": 3
   },
   "file_extension": ".py",
   "mimetype": "text/x-python",
   "name": "python",
   "nbconvert_exporter": "python",
   "pygments_lexer": "ipython3",
   "version": "3.8.17"
  },
  "orig_nbformat": 4
 },
 "nbformat": 4,
 "nbformat_minor": 2
}
